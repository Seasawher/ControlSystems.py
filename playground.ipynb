{
 "cells": [
  {
   "cell_type": "code",
   "execution_count": 2,
   "metadata": {},
   "outputs": [
    {
     "name": "stdout",
     "output_type": "stream",
     "text": [
      "dict_keys(['angle', 'angular_velocity'])\n",
      "{'inertia_moment': 0.3, 'mass': 1.5, 'viscous_friction': 0.7, 'length': 0.7}\n",
      "{'inertia_moment': 23.0, 'mass': 1.5, 'viscous_friction': 0.7, 'length': 0.7}\n"
     ]
    }
   ],
   "source": [
    "from ControlSystems import VerticalDrivingArm\n",
    "\n",
    "# インスタンス化。引数を与えなければ定数部分は初期値が入る\n",
    "arm_system = VerticalDrivingArm()\n",
    "\n",
    "# どういう状態を保持するか？\n",
    "print(arm_system.state_dict.keys())\n",
    "\n",
    "# どういう定数がパラメータとしてあって、いまどういう値か\n",
    "print(arm_system.constants)\n",
    "\n",
    "# 定数の値を変更する\n",
    "arm_system.J = 23.0\n",
    "print(arm_system.constants)"
   ]
  },
  {
   "cell_type": "code",
   "execution_count": 3,
   "metadata": {},
   "outputs": [
    {
     "name": "stdout",
     "output_type": "stream",
     "text": [
      "dict_keys(['water_level_1', 'water_level_2'])\n",
      "{'cross_sectional_area_1': 1.0, 'cross_sectional_area_2': 2.0, 'outlet_resistance_1': 0.1, 'outlet_resistance_2': 0.1}\n",
      "{'cross_sectional_area_1': 0.5, 'cross_sectional_area_2': 2.0, 'outlet_resistance_1': 0.1, 'outlet_resistance_2': 0.1}\n"
     ]
    }
   ],
   "source": [
    "from ControlSystems import TwoTanks\n",
    "\n",
    "two_tanks = TwoTanks()\n",
    "print(two_tanks.state_dict.keys())\n",
    "\n",
    "print(two_tanks.constants)\n",
    "\n",
    "two_tanks.C1 = 0.5\n",
    "print(two_tanks.constants)"
   ]
  }
 ],
 "metadata": {
  "kernelspec": {
   "display_name": ".venv",
   "language": "python",
   "name": "python3"
  },
  "language_info": {
   "codemirror_mode": {
    "name": "ipython",
    "version": 3
   },
   "file_extension": ".py",
   "mimetype": "text/x-python",
   "name": "python",
   "nbconvert_exporter": "python",
   "pygments_lexer": "ipython3",
   "version": "3.12.8"
  }
 },
 "nbformat": 4,
 "nbformat_minor": 2
}
